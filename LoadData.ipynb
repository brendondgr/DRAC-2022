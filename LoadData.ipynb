{
 "cells": [
  {
   "cell_type": "code",
   "execution_count": 1,
   "metadata": {},
   "outputs": [],
   "source": [
    "# Import PyTorch Data Loader Library\n",
    "import torch\n",
    "import torch.utils.data as data\n",
    "import numpy as np\n",
    "import os\n",
    "\n",
    "from DRAC_Dataloader import DRAC_Loader"
   ]
  },
  {
   "cell_type": "code",
   "execution_count": 2,
   "metadata": {},
   "outputs": [],
   "source": [
    "# Key Data Locations\n",
    "segmentationdata = './data/A. Segmentation/1. Original Images'\n",
    "training_set = f'{segmentationdata}/a. Training Set/'\n",
    "testing_set = f'{segmentationdata}/b. Testing Set/'\n",
    "\n",
    "# Label Locations\n",
    "labeldata = './data/A. Segmentation/2. Groundtruths/a. Training Set'\n",
    "ima_data = f'{labeldata}/1. Intraretinal Microvascular Abnormalities/'\n",
    "npa_data = f'{labeldata}/2. Nonperfusion Areas/'\n",
    "neo_data = f'{labeldata}/3. Neovascularization/'\n",
    "\n",
    "# List of Label Locations\n",
    "label_list = [ima_data, npa_data, neo_data]"
   ]
  },
  {
   "cell_type": "code",
   "execution_count": 3,
   "metadata": {},
   "outputs": [
    {
     "name": "stdout",
     "output_type": "stream",
     "text": [
      "Training Set: 109\n",
      "Testing Set: 65\n",
      "IMA: 86\n",
      "NPA: 106\n",
      "NEO: 35\n"
     ]
    }
   ],
   "source": [
    "# Load Data\n",
    "training = os.listdir(training_set)\n",
    "testing = os.listdir(testing_set)\n",
    "\n",
    "# Load Labels\n",
    "ima = os.listdir(ima_data)\n",
    "npa = os.listdir(npa_data)\n",
    "neo = os.listdir(neo_data)\n",
    "\n",
    "print(f'Training Set: {len(training)}')\n",
    "print(f'Testing Set: {len(testing)}')\n",
    "print(f'IMA: {len(ima)}')\n",
    "print(f'NPA: {len(npa)}')\n",
    "print(f'NEO: {len(neo)}')"
   ]
  },
  {
   "cell_type": "code",
   "execution_count": 6,
   "metadata": {},
   "outputs": [],
   "source": [
    "# Load Training Set and Labels\n",
    "dataset = DRAC_Loader(training_set, training)"
   ]
  },
  {
   "cell_type": "code",
   "execution_count": 7,
   "metadata": {},
   "outputs": [
    {
     "data": {
      "text/plain": [
       "109"
      ]
     },
     "execution_count": 7,
     "metadata": {},
     "output_type": "execute_result"
    }
   ],
   "source": [
    "# Get Length\n",
    "len(dataset)"
   ]
  },
  {
   "cell_type": "code",
   "execution_count": 14,
   "metadata": {},
   "outputs": [
    {
     "name": "stdout",
     "output_type": "stream",
     "text": [
      "075.png\n"
     ]
    }
   ],
   "source": [
    "# Print the name of the third image\n",
    "print(dataset.datalist[2])"
   ]
  }
 ],
 "metadata": {
  "kernelspec": {
   "display_name": "pythonvenv",
   "language": "python",
   "name": "python3"
  },
  "language_info": {
   "codemirror_mode": {
    "name": "ipython",
    "version": 3
   },
   "file_extension": ".py",
   "mimetype": "text/x-python",
   "name": "python",
   "nbconvert_exporter": "python",
   "pygments_lexer": "ipython3",
   "version": "3.10.12"
  }
 },
 "nbformat": 4,
 "nbformat_minor": 2
}
