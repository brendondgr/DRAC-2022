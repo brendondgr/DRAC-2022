{
 "cells": [
  {
   "cell_type": "code",
   "execution_count": 1,
   "metadata": {},
   "outputs": [],
   "source": [
    "# Import PyTorch Data Loader Library\n",
    "import torch\n",
    "import torch.nn as nn\n",
    "from torch.utils.data import DataLoader\n",
    "from torch.autograd import Variable\n",
    "from torchvision.models.segmentation import fcn_resnet50\n",
    "\n",
    "# Other Library Imports\n",
    "import os\n",
    "import numpy as np\n",
    "import pandas as pd\n",
    "import matplotlib.pyplot as plt\n",
    "\n",
    "# Custom Imports\n",
    "from DRAC_Dataloading import DRAC_Loader\n",
    "from DRAC_Models import ResNetBinary\n",
    "from DRAC_Training import train_model\n",
    "#from DRAC_Testing import test_model\n",
    "from DRAC_Criterion import DiceLoss\n",
    "\n",
    "# Warnings\n",
    "import warnings\n",
    "warnings.filterwarnings(\"ignore\")"
   ]
  },
  {
   "cell_type": "code",
   "execution_count": 2,
   "metadata": {},
   "outputs": [
    {
     "data": {
      "text/plain": [
       "'2.0.1'"
      ]
     },
     "execution_count": 2,
     "metadata": {},
     "output_type": "execute_result"
    }
   ],
   "source": [
    "torch.__version__"
   ]
  },
  {
   "cell_type": "code",
   "execution_count": 3,
   "metadata": {},
   "outputs": [
    {
     "name": "stdout",
     "output_type": "stream",
     "text": [
      "cuda:0\n",
      "NVIDIA RTX A5000\n"
     ]
    }
   ],
   "source": [
    "device = torch.device(\"cuda:0\" if torch.cuda.is_available() else \"cpu\")\n",
    "print(device)\n",
    "print(torch.cuda.get_device_name(0))"
   ]
  },
  {
   "cell_type": "code",
   "execution_count": 4,
   "metadata": {},
   "outputs": [],
   "source": [
    "## Default Variables ##\n",
    "# Datasets #\n",
    "\n",
    "\n",
    "# Dataloader #\n",
    "batch_size = 4\n",
    "\n",
    "# Model #\n",
    "model = fcn_resnet50(num_classes=3)\n",
    "model_name = 'fcn_resnet50'\n",
    "criterion =  DiceLoss() \n",
    "criterion_name = 'DiceLoss'\n",
    "optimizer = torch.optim.Adam(model.parameters(), lr=0.01)\n",
    "epochs = 250"
   ]
  },
  {
   "cell_type": "code",
   "execution_count": 5,
   "metadata": {},
   "outputs": [],
   "source": [
    "# Key Data Locations\n",
    "# Select 'train' or 'test' data.\n",
    "train_data = DRAC_Loader(data_type = 'train', transform = None)\n",
    "test_data = DRAC_Loader(data_type = 'test', transform = None)"
   ]
  },
  {
   "cell_type": "code",
   "execution_count": 6,
   "metadata": {},
   "outputs": [],
   "source": [
    "# Load Items into data loaders\n",
    "train_loader = DataLoader(train_data, batch_size=batch_size, shuffle=True)\n",
    "test_loader = DataLoader(test_data, batch_size=batch_size, shuffle=True)"
   ]
  },
  {
   "cell_type": "code",
   "execution_count": 7,
   "metadata": {},
   "outputs": [
    {
     "name": "stdout",
     "output_type": "stream",
     "text": [
      "torch.Size([4, 1024, 1024])\n",
      "torch.Size([4, 1024, 1024, 3])\n",
      "torch.Size([4, 3, 1024, 1024])\n"
     ]
    }
   ],
   "source": [
    "# Load first item in train_loader\n",
    "for i, data in enumerate(train_loader):\n",
    "    image, classes = data\n",
    "    \n",
    "    # Take the first item in classes\n",
    "    classy = classes[0]\n",
    "    \n",
    "    # Print the class shape\n",
    "    print(classy.shape)\n",
    "    print(image.shape)\n",
    "    \n",
    "    # Permute the class\n",
    "    image = image.permute(0,3,1,2)\n",
    "    print(image.shape)\n",
    "    \n",
    "    # Break the loop\n",
    "    break"
   ]
  },
  {
   "cell_type": "code",
   "execution_count": 8,
   "metadata": {},
   "outputs": [
    {
     "data": {
      "text/plain": [
       "4194304"
      ]
     },
     "execution_count": 8,
     "metadata": {},
     "output_type": "execute_result"
    }
   ],
   "source": [
    "1024*1024*4"
   ]
  },
  {
   "cell_type": "code",
   "execution_count": 9,
   "metadata": {},
   "outputs": [
    {
     "name": "stdout",
     "output_type": "stream",
     "text": [
      "[Epoch 1/250] Loss: 0.8100 | Time Spent: 15.45s\n",
      "[Epoch 2/250] Loss: 0.7849 | Time Spent: 15.45s\n",
      "[Epoch 3/250] Loss: 0.7677 | Time Spent: 15.58s\n",
      "[Epoch 4/250] Loss: 0.7604 | Time Spent: 15.71s\n",
      "[Epoch 5/250] Loss: 0.7371 | Time Spent: 15.83s\n",
      "[Epoch 6/250] Loss: 0.7568 | Time Spent: 15.89s\n",
      "[Epoch 7/250] Loss: 0.7261 | Time Spent: 15.93s\n",
      "[Epoch 8/250] Loss: 0.7169 | Time Spent: 15.90s\n",
      "[Epoch 9/250] Loss: 0.7039 | Time Spent: 15.95s\n",
      "[Epoch 10/250] Loss: 0.7026 | Time Spent: 15.98s\n",
      "[Epoch 11/250] Loss: 0.7060 | Time Spent: 15.98s\n",
      "[Epoch 12/250] Loss: 0.6987 | Time Spent: 15.97s\n",
      "[Epoch 13/250] Loss: 0.6892 | Time Spent: 15.99s\n",
      "[Epoch 14/250] Loss: 0.6877 | Time Spent: 16.00s\n",
      "[Epoch 15/250] Loss: 0.6762 | Time Spent: 15.98s\n",
      "[Epoch 16/250] Loss: 0.6795 | Time Spent: 15.99s\n",
      "[Epoch 17/250] Loss: 0.6913 | Time Spent: 15.98s\n",
      "[Epoch 18/250] Loss: 0.6708 | Time Spent: 15.99s\n",
      "[Epoch 19/250] Loss: 0.6533 | Time Spent: 16.01s\n",
      "[Epoch 20/250] Loss: 0.6658 | Time Spent: 15.97s\n",
      "[Epoch 21/250] Loss: 0.6579 | Time Spent: 15.98s\n",
      "[Epoch 22/250] Loss: 0.6613 | Time Spent: 16.00s\n",
      "[Epoch 23/250] Loss: 0.6540 | Time Spent: 16.01s\n",
      "[Epoch 24/250] Loss: 0.6504 | Time Spent: 16.01s\n",
      "[Epoch 25/250] Loss: 0.6561 | Time Spent: 15.98s\n",
      "[Epoch 26/250] Loss: 0.6571 | Time Spent: 15.98s\n",
      "[Epoch 27/250] Loss: 0.6638 | Time Spent: 15.98s\n",
      "[Epoch 28/250] Loss: 0.6419 | Time Spent: 16.00s\n",
      "[Epoch 29/250] Loss: 0.6410 | Time Spent: 16.00s\n",
      "[Epoch 30/250] Loss: 0.6440 | Time Spent: 16.02s\n",
      "[Epoch 31/250] Loss: 0.6373 | Time Spent: 16.01s\n",
      "[Epoch 32/250] Loss: 0.6484 | Time Spent: 16.00s\n",
      "[Epoch 33/250] Loss: 0.6442 | Time Spent: 15.98s\n",
      "[Epoch 34/250] Loss: 0.6367 | Time Spent: 16.01s\n",
      "[Epoch 35/250] Loss: 0.6202 | Time Spent: 15.99s\n",
      "[Epoch 36/250] Loss: 0.6281 | Time Spent: 15.99s\n",
      "[Epoch 37/250] Loss: 0.6340 | Time Spent: 16.03s\n",
      "[Epoch 38/250] Loss: 0.6230 | Time Spent: 16.00s\n",
      "[Epoch 39/250] Loss: 0.6241 | Time Spent: 16.00s\n",
      "[Epoch 40/250] Loss: 0.6184 | Time Spent: 16.03s\n",
      "[Epoch 41/250] Loss: 0.6196 | Time Spent: 16.00s\n",
      "[Epoch 42/250] Loss: 0.6123 | Time Spent: 16.01s\n",
      "[Epoch 43/250] Loss: 0.6225 | Time Spent: 16.02s\n",
      "[Epoch 44/250] Loss: 0.6107 | Time Spent: 15.99s\n",
      "[Epoch 45/250] Loss: 0.6022 | Time Spent: 16.02s\n",
      "[Epoch 46/250] Loss: 0.6096 | Time Spent: 15.99s\n",
      "[Epoch 47/250] Loss: 0.6239 | Time Spent: 16.01s\n",
      "[Epoch 48/250] Loss: 0.6147 | Time Spent: 16.01s\n"
     ]
    },
    {
     "ename": "KeyboardInterrupt",
     "evalue": "",
     "output_type": "error",
     "traceback": [
      "\u001b[0;31m---------------------------------------------------------------------------\u001b[0m",
      "\u001b[0;31mKeyboardInterrupt\u001b[0m                         Traceback (most recent call last)",
      "Cell \u001b[0;32mIn[9], line 1\u001b[0m\n\u001b[0;32m----> 1\u001b[0m model, loss \u001b[38;5;241m=\u001b[39m train_model(model, train_loader, criterion, optimizer, epochs\u001b[38;5;241m=\u001b[39mepochs, criterion_name\u001b[38;5;241m=\u001b[39mcriterion_name)\n",
      "File \u001b[0;32m~/Documents/DRAC-2022/DRAC_Training.py:53\u001b[0m, in \u001b[0;36mtrain_model\u001b[0;34m(model, train_loader, criterion, optimizer, epochs, criterion_name)\u001b[0m\n\u001b[1;32m     50\u001b[0m     \u001b[38;5;28;01mcontinue\u001b[39;00m \n\u001b[1;32m     52\u001b[0m \u001b[38;5;66;03m# Backward pass and optimize\u001b[39;00m\n\u001b[0;32m---> 53\u001b[0m scalar_loss\u001b[38;5;241m.\u001b[39mbackward()\n\u001b[1;32m     54\u001b[0m optimizer\u001b[38;5;241m.\u001b[39mstep()\n\u001b[1;32m     56\u001b[0m \u001b[38;5;66;03m#print(scalar_loss)\u001b[39;00m\n\u001b[1;32m     57\u001b[0m \u001b[38;5;66;03m#print(loss)\u001b[39;00m\n",
      "File \u001b[0;32m/opt/anaconda3/envs/aieoastorch/lib/python3.11/site-packages/torch/_tensor.py:428\u001b[0m, in \u001b[0;36mTensor.backward\u001b[0;34m(self, gradient, retain_graph, create_graph, inputs)\u001b[0m\n\u001b[1;32m    425\u001b[0m     \u001b[38;5;66;03m# All strings are unicode in Python 3.\u001b[39;00m\n\u001b[1;32m    426\u001b[0m     \u001b[38;5;28;01mreturn\u001b[39;00m torch\u001b[38;5;241m.\u001b[39m_tensor_str\u001b[38;5;241m.\u001b[39m_str(\u001b[38;5;28mself\u001b[39m, tensor_contents\u001b[38;5;241m=\u001b[39mtensor_contents)\n\u001b[0;32m--> 428\u001b[0m \u001b[38;5;28;01mdef\u001b[39;00m \u001b[38;5;21mbackward\u001b[39m(\n\u001b[1;32m    429\u001b[0m     \u001b[38;5;28mself\u001b[39m, gradient\u001b[38;5;241m=\u001b[39m\u001b[38;5;28;01mNone\u001b[39;00m, retain_graph\u001b[38;5;241m=\u001b[39m\u001b[38;5;28;01mNone\u001b[39;00m, create_graph\u001b[38;5;241m=\u001b[39m\u001b[38;5;28;01mFalse\u001b[39;00m, inputs\u001b[38;5;241m=\u001b[39m\u001b[38;5;28;01mNone\u001b[39;00m\n\u001b[1;32m    430\u001b[0m ):\n\u001b[1;32m    431\u001b[0m \u001b[38;5;250m    \u001b[39m\u001b[38;5;124mr\u001b[39m\u001b[38;5;124;03m\"\"\"Computes the gradient of current tensor w.r.t. graph leaves.\u001b[39;00m\n\u001b[1;32m    432\u001b[0m \n\u001b[1;32m    433\u001b[0m \u001b[38;5;124;03m    The graph is differentiated using the chain rule. If the tensor is\u001b[39;00m\n\u001b[0;32m   (...)\u001b[0m\n\u001b[1;32m    475\u001b[0m \u001b[38;5;124;03m            used to compute the attr::tensors.\u001b[39;00m\n\u001b[1;32m    476\u001b[0m \u001b[38;5;124;03m    \"\"\"\u001b[39;00m\n\u001b[1;32m    477\u001b[0m     \u001b[38;5;28;01mif\u001b[39;00m has_torch_function_unary(\u001b[38;5;28mself\u001b[39m):\n",
      "\u001b[0;31mKeyboardInterrupt\u001b[0m: "
     ]
    }
   ],
   "source": [
    "model, loss = train_model(model, train_loader, criterion, optimizer, epochs=epochs, criterion_name=criterion_name)"
   ]
  },
  {
   "cell_type": "code",
   "execution_count": null,
   "metadata": {},
   "outputs": [],
   "source": [
    "saveModel = False\n",
    "name = f'models/{model_name}_{batch_size}_{epochs}'\n",
    "\n",
    "# Checks to see if name exists, if not cycles through and adds _i to the end of the name, with i being the number of times it has cycled through\n",
    "if os.path.exists(name):\n",
    "    i = 1\n",
    "    while os.path.exists(name):\n",
    "        name = f'models/{model_name}_{batch_size}_{epochs}_{i}'\n",
    "        i += 1\n",
    "\n",
    "# Ensure that the models folder exists\n",
    "if not os.path.exists('models'):\n",
    "    os.makedirs('models')\n",
    "\n",
    "# Save the model to models folder\n",
    "if saveModel: torch.save(model.state_dict(), f'{name}.pth')"
   ]
  },
  {
   "cell_type": "code",
   "execution_count": null,
   "metadata": {},
   "outputs": [],
   "source": [
    "### ACCURACY TEST NON-FUNCTIONAL ###\n",
    "\n",
    "# accuracy = test_model(model, test_loader)\n",
    "# accuracy"
   ]
  },
  {
   "cell_type": "code",
   "execution_count": null,
   "metadata": {},
   "outputs": [],
   "source": [
    "# Checks to see if graphs folder exists #\n",
    "if not os.path.exists('graphs'):\n",
    "    os.makedirs('graphs')"
   ]
  },
  {
   "cell_type": "code",
   "execution_count": null,
   "metadata": {},
   "outputs": [
    {
     "data": {
      "image/png": "[encoded data removed]",
      "text/plain": [
       "<Figure size 640x480 with 1 Axes>"
      ]
     },
     "metadata": {},
     "output_type": "display_data"
    },
    {
     "data": {
      "text/plain": [
       "<Figure size 640x480 with 0 Axes>"
      ]
     },
     "metadata": {},
     "output_type": "display_data"
    }
   ],
   "source": [
    "# Plot the loss\n",
    "plot = True\n",
    "new_name = name.split('/')[1]\n",
    "\n",
    "# Print a graph of the loss \n",
    "plt.plot(loss)\n",
    "plt.title(new_name)\n",
    "plt.xlabel('Epochs')\n",
    "plt.ylabel('Loss')\n",
    "plt.grid()\n",
    "plt.show()\n",
    "\n",
    "# Split name\n",
    "graph_name = f'{new_name}_loss.png'\n",
    "\n",
    "# Save plot to graphs folder\n",
    "if plot: plt.savefig(f'graphs/{graph_name}')"
   ]
  }
 ],
 "metadata": {
  "kernelspec": {
   "display_name": "pythonvenv",
   "language": "python",
   "name": "python3"
  },
  "language_info": {
   "codemirror_mode": {
    "name": "ipython",
    "version": 3
   },
   "file_extension": ".py",
   "mimetype": "text/x-python",
   "name": "python",
   "nbconvert_exporter": "python",
   "pygments_lexer": "ipython3",
   "version": "3.11.5"
  }
 },
 "nbformat": 4,
 "nbformat_minor": 2
}
