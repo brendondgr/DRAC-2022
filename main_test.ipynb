{
 "cells": [
  {
   "cell_type": "code",
   "execution_count": 1,
   "metadata": {},
   "outputs": [],
   "source": [
    "# Import PyTorch Data Loader Library\n",
    "import torch\n",
    "import torch.nn as nn\n",
    "from torch.utils.data import DataLoader\n",
    "from torch.autograd import Variable\n",
    "from torchvision.models.segmentation import fcn_resnet50\n",
    "\n",
    "# Other Library Imports\n",
    "import os\n",
    "import numpy as np\n",
    "import pandas as pd\n",
    "import matplotlib.pyplot as plt\n",
    "from PIL import Image\n",
    "import SimpleITK as sitk\n",
    "\n",
    "# Custom Imports\n",
    "from DRAC_Dataloading import DRAC_Loader\n",
    "from DRAC_Models import ResNetBinary\n",
    "from DRAC_Training import train_model\n",
    "from DRAC_Testing import test_model\n",
    "from DRAC_Criterion import DiceLoss\n",
    "\n",
    "# Warnings\n",
    "import warnings\n",
    "warnings.filterwarnings(\"ignore\")"
   ]
  },
  {
   "cell_type": "code",
   "execution_count": 2,
   "metadata": {},
   "outputs": [
    {
     "name": "stdout",
     "output_type": "stream",
     "text": [
      "cuda:0\n",
      "NVIDIA RTX A5000\n"
     ]
    }
   ],
   "source": [
    "device = torch.device(\"cuda:0\" if torch.cuda.is_available() else \"cpu\")\n",
    "print(device)\n",
    "print(torch.cuda.get_device_name(0))"
   ]
  },
  {
   "cell_type": "code",
   "execution_count": 3,
   "metadata": {},
   "outputs": [],
   "source": [
    "batch_size = 1"
   ]
  },
  {
   "cell_type": "code",
   "execution_count": 4,
   "metadata": {},
   "outputs": [
    {
     "data": {
      "text/plain": [
       "['fcn_resnet50_3_250_DiceLoss',\n",
       " 'fcn_resnet50_2_100_CrossEntropyLoss',\n",
       " 'fcn_resnet50_2_50_CrossEntropyLoss']"
      ]
     },
     "execution_count": 4,
     "metadata": {},
     "output_type": "execute_result"
    }
   ],
   "source": [
    "# Load in the custom models\n",
    "name = os.listdir(\"./models/\")\n",
    "name"
   ]
  },
  {
   "cell_type": "code",
   "execution_count": 5,
   "metadata": {},
   "outputs": [
    {
     "data": {
      "text/plain": [
       "['./models/fcn_resnet50_3_250_DiceLoss/Intraretinal.pth',\n",
       " './models/fcn_resnet50_3_250_DiceLoss/Nonperfusion.pth',\n",
       " './models/fcn_resnet50_3_250_DiceLoss/Neovascularization.pth']"
      ]
     },
     "execution_count": 5,
     "metadata": {},
     "output_type": "execute_result"
    }
   ],
   "source": [
    "file = \"./models/\" + name[0] + \"/\"\n",
    "models = os.listdir(file)\n",
    "models = [file + model for model in models]\n",
    "\n",
    "# If any item in the list is a directory, remove it\n",
    "models = [model for model in models if not os.path.isdir(model)]\n",
    "\n",
    "# Reorder the list so that the .pth files are in the order Intraretinal.pth, Neovascularization.pth, Nonperfusion.pth\n",
    "\n",
    "\n",
    "models"
   ]
  },
  {
   "cell_type": "code",
   "execution_count": 6,
   "metadata": {},
   "outputs": [],
   "source": [
    "# Within file create folder called \"Predictions\"\n",
    "if not os.path.exists(file + \"Predictions\"):\n",
    "    os.makedirs(file + \"Predictions\")\n",
    "\n",
    "# Set another location\n",
    "predictions = file + \"Predictions/\""
   ]
  },
  {
   "cell_type": "code",
   "execution_count": 7,
   "metadata": {},
   "outputs": [],
   "source": [
    "test_data_intra = DRAC_Loader(data_type = 'test', transform = None, mask = \"intraretinal\")\n",
    "test_loader_intra = DataLoader(test_data_intra, batch_size = batch_size, shuffle = True)\n",
    "test_data_neo = DRAC_Loader(data_type = 'test', transform = None, mask = \"neovascular\")\n",
    "test_loader_neo = DataLoader(test_data_neo, batch_size = batch_size, shuffle = True)\n",
    "test_data_nonper = DRAC_Loader(data_type = 'test', transform = None, mask = \"nonperfusion\")\n",
    "test_loader_nonper = DataLoader(test_data_nonper, batch_size = batch_size, shuffle = True)\n",
    "\n",
    "# Create the list of Data Loaders\n",
    "test_loaders = [test_loader_intra, test_loader_neo, test_loader_nonper]"
   ]
  },
  {
   "cell_type": "code",
   "execution_count": 8,
   "metadata": {},
   "outputs": [
    {
     "name": "stdout",
     "output_type": "stream",
     "text": [
      "(65, 1024, 1024)\n",
      "(65, 1024, 1024)\n",
      "(65, 1024, 1024)\n"
     ]
    }
   ],
   "source": [
    "count = 0\n",
    "\n",
    "for model1 in models:\n",
    "    # Load in the model \n",
    "    model = fcn_resnet50(num_classes=2)\n",
    "    model.load_state_dict(torch.load(model1))\n",
    "    model.eval()\n",
    "    model.to(device)\n",
    "    \n",
    "    # Test the model, run if statements...\n",
    "    if \"Intraretinal\" in model1:\n",
    "        loader = test_loaders[0]\n",
    "        loader_name = \"Intraretinal\"\n",
    "        nii_file = \"1.nii.gz\"\n",
    "    elif \"Neovascularization\" in model1:\n",
    "        loader = test_loaders[1]\n",
    "        loader_name = \"Neovascularization\"\n",
    "        nii_file = \"3.nii.gz\"\n",
    "    elif \"Nonperfusion\" in model1:\n",
    "        loader = test_loaders[2]\n",
    "        loader_name = \"Nonperfusion\"\n",
    "        nii_file = \"2.nii.gz\"\n",
    "    else:\n",
    "        print(\"Error\")\n",
    "        break\n",
    "    \n",
    "    # Create an empty array to store the predicted masks\n",
    "    predicted_masks = np.zeros((len(loader), 1024, 1024))\n",
    "    \n",
    "    for i, (inputs, name) in enumerate(loader):\n",
    "        # Permute\n",
    "        inputs = inputs.permute(0, 3, 1, 2)\n",
    "        \n",
    "        inputs = inputs.to(device)\n",
    "        outputs = model(inputs)\n",
    "        _, preds = torch.max(outputs['out'], 1)\n",
    "        preds = preds.cpu().numpy()\n",
    "        \n",
    "        # Store the predicted mask in the array\n",
    "        predicted_masks[i] = preds[0]\n",
    "    print(predicted_masks.shape)    \n",
    "    predicted_masks_sitk = sitk.GetImageFromArray(predicted_masks)\n",
    "    sitk.WriteImage(predicted_masks_sitk, f\"{predictions}{nii_file}\")\n",
    "    \n",
    "    saveimages = False\n",
    "    if saveimages:\n",
    "        for inputs, name in loader:\n",
    "            # Permute\n",
    "            inputs = inputs.permute(0, 3, 1, 2)\n",
    "            \n",
    "            inputs = inputs.to(device)\n",
    "            outputs = model(inputs)\n",
    "            _, preds = torch.max(outputs['out'], 1)\n",
    "            preds = preds.cpu().numpy()\n",
    "            \n",
    "            if not os.path.exists(f\"{predictions}{loader_name}\"):\n",
    "                os.makedirs(f\"{predictions}{loader_name}\")\n",
    "            \n",
    "            for i in range(len(preds)):\n",
    "                # Set the name of the file\n",
    "                name = f\"{predictions}{loader_name}/{name[0]}.png\"\n",
    "                \n",
    "                plt.imsave(f\"{name}\", preds[i], cmap = 'gray')\n",
    "                count += 1"
   ]
  },
  {
   "cell_type": "code",
   "execution_count": 9,
   "metadata": {},
   "outputs": [],
   "source": [
    "# Load \"./models/fcn_resnet50_2_50_CrossEntropyLoss/Predictions/1.nii.gz\"\n",
    "image = sitk.ReadImage(\"./models/fcn_resnet50_3_250_DiceLoss/Predictions/1.nii.gz\")"
   ]
  },
  {
   "cell_type": "code",
   "execution_count": 10,
   "metadata": {},
   "outputs": [
    {
     "name": "stdout",
     "output_type": "stream",
     "text": [
      "Image size: (1024, 1024, 65)\n",
      "Voxel spacing: (1.0, 1.0, 1.0)\n",
      "Image origin: (0.0, 0.0, 0.0)\n",
      "Image array shape: (65, 1024, 1024)\n"
     ]
    }
   ],
   "source": [
    "# Get the image dimensions\n",
    "size = image.GetSize()\n",
    "print(\"Image size:\", size)\n",
    "\n",
    "# Get the voxel spacing\n",
    "spacing = image.GetSpacing()\n",
    "print(\"Voxel spacing:\", spacing)\n",
    "\n",
    "# Get the image origin\n",
    "origin = image.GetOrigin()\n",
    "print(\"Image origin:\", origin)\n",
    "\n",
    "# Access the image data as a numpy array\n",
    "image_array = sitk.GetArrayFromImage(image)\n",
    "print(\"Image array shape:\", image_array.shape)"
   ]
  }
 ],
 "metadata": {
  "kernelspec": {
   "display_name": "aieoastorch",
   "language": "python",
   "name": "python3"
  },
  "language_info": {
   "codemirror_mode": {
    "name": "ipython",
    "version": 3
   },
   "file_extension": ".py",
   "mimetype": "text/x-python",
   "name": "python",
   "nbconvert_exporter": "python",
   "pygments_lexer": "ipython3",
   "version": "3.11.5"
  }
 },
 "nbformat": 4,
 "nbformat_minor": 2
}
