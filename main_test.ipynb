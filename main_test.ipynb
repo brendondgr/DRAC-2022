{
 "cells": [
  {
   "cell_type": "code",
   "execution_count": 1,
   "metadata": {},
   "outputs": [],
   "source": [
    "# Import PyTorch Data Loader Library\n",
    "import torch\n",
    "import torch.nn as nn\n",
    "from torch.utils.data import DataLoader\n",
    "from torch.autograd import Variable\n",
    "from torchvision.models.segmentation import fcn_resnet50, fcn_resnet101\n",
    "from torchvision import transforms\n",
    "\n",
    "# Other Library Imports\n",
    "import os\n",
    "import numpy as np\n",
    "import pandas as pd\n",
    "import matplotlib.pyplot as plt\n",
    "import torchmetrics\n",
    "from torchmetrics import Dice\n",
    "import resource\n",
    "from monai.losses import DiceLoss as MonaiDiceLoss\n",
    "from monai.networks.nets import UNet\n",
    "from sklearn.model_selection import train_test_split\n",
    "import SimpleITK as sitk\n",
    "\n",
    "# Custom Imports\n",
    "from DRAC_Dataloading import DRAC_Loader\n",
    "from DRAC_Models import ResNetBinary\n",
    "from DRAC_Training import train_model\n",
    "from DRAC_Testing import test_model\n",
    "from DRAC_Criterion import DiceLoss\n",
    "from models_unetpp import UNetPlusPlus\n",
    "\n",
    "# Warnings\n",
    "import warnings\n",
    "warnings.filterwarnings(\"ignore\")"
   ]
  },
  {
   "cell_type": "code",
   "execution_count": 2,
   "metadata": {},
   "outputs": [
    {
     "name": "stdout",
     "output_type": "stream",
     "text": [
      "cuda:0\n",
      "NVIDIA RTX A5000\n"
     ]
    }
   ],
   "source": [
    "device = torch.device(\"cuda:0\" if torch.cuda.is_available() else \"cpu\")\n",
    "print(device)\n",
    "print(torch.cuda.get_device_name(0))"
   ]
  },
  {
   "cell_type": "code",
   "execution_count": 3,
   "metadata": {},
   "outputs": [],
   "source": [
    "batch_size = 1"
   ]
  },
  {
   "cell_type": "code",
   "execution_count": 4,
   "metadata": {},
   "outputs": [
    {
     "name": "stdout",
     "output_type": "stream",
     "text": [
      "0. fcn_resnet50_3_250_DiceLoss\n",
      "1. fcn_resnet50_2_100_CrossEntropyLoss\n",
      "2. UNet-Monai_8_5_MonaiDice\n",
      "3. fcn_resnet50_3_250_DiceLoss_1\n",
      "4. fcn_resnet50_2_50_CrossEntropyLoss\n",
      "5. UNet-Monai_16_200_MonaiDice\n"
     ]
    }
   ],
   "source": [
    "# Load in the custom models\n",
    "name = os.listdir(\"./models/\")\n",
    "\n",
    "# Print out items with structure \"#. model_name\"\n",
    "for i in range(len(name)):\n",
    "    print(f\"{i}. {name[i]}\")"
   ]
  },
  {
   "cell_type": "code",
   "execution_count": 5,
   "metadata": {},
   "outputs": [
    {
     "data": {
      "text/plain": [
       "['./models/UNet-Monai_16_200_MonaiDice/model_Neovascularization.pt',\n",
       " './models/UNet-Monai_16_200_MonaiDice/model_Nonperfusion.pt',\n",
       " './models/UNet-Monai_16_200_MonaiDice/model_Intraretinal.pt']"
      ]
     },
     "execution_count": 5,
     "metadata": {},
     "output_type": "execute_result"
    }
   ],
   "source": [
    "file = \"./models/\" + name[5] + \"/\"\n",
    "models = os.listdir(file)\n",
    "models = [file + model for model in models]\n",
    "\n",
    "# If any item in the list is a directory, remove it\n",
    "models = [model for model in models if not os.path.isdir(model)]\n",
    "\n",
    "# Reorder the list so that the .pth files are in the order Intraretinal.pth, Neovascularization.pth, Nonperfusion.pth\n",
    "\n",
    "models"
   ]
  },
  {
   "cell_type": "code",
   "execution_count": 6,
   "metadata": {},
   "outputs": [],
   "source": [
    "# Within file create folder called \"Predictions\"\n",
    "if not os.path.exists(file + \"Predictions\"):\n",
    "    os.makedirs(file + \"Predictions\")\n",
    "\n",
    "# Set another location\n",
    "predictions = file + \"Predictions/\""
   ]
  },
  {
   "cell_type": "code",
   "execution_count": 7,
   "metadata": {},
   "outputs": [
    {
     "data": {
      "text/plain": [
       "['./data/Segmentation/Original/test/1250.png',\n",
       " './data/Segmentation/Original/test/1281.png',\n",
       " './data/Segmentation/Original/test/728.png',\n",
       " './data/Segmentation/Original/test/1172.png']"
      ]
     },
     "execution_count": 7,
     "metadata": {},
     "output_type": "execute_result"
    }
   ],
   "source": [
    "# Use os to list all items in following directory\n",
    "directory = \"./data/Segmentation/Original/test/\"\n",
    "items = os.listdir(directory)\n",
    "\n",
    "# Item Locations\n",
    "item_locations = [directory + item for item in items]\n",
    "\n",
    "item_locations[:4]"
   ]
  },
  {
   "cell_type": "code",
   "execution_count": 8,
   "metadata": {},
   "outputs": [],
   "source": [
    "transforms = transforms.Compose([\n",
    "    transforms.ToTensor()\n",
    "])"
   ]
  },
  {
   "cell_type": "code",
   "execution_count": 9,
   "metadata": {},
   "outputs": [],
   "source": [
    "test_dataset = DRAC_Loader(data = item_locations, data_names = items, transform = transforms)\n",
    "test_dataloader = DataLoader(test_dataset, batch_size = batch_size, shuffle = False)"
   ]
  },
  {
   "cell_type": "code",
   "execution_count": 10,
   "metadata": {},
   "outputs": [
    {
     "name": "stdout",
     "output_type": "stream",
     "text": [
      "(65, 1024, 1024)\n",
      "(65, 1024, 1024)\n",
      "(65, 1024, 1024)\n"
     ]
    }
   ],
   "source": [
    "count = 0\n",
    "\n",
    "for model1 in models:\n",
    "    # Load in the model \n",
    "    model = UNet(\n",
    "        spatial_dims=2,\n",
    "        in_channels=1,\n",
    "        out_channels=1,\n",
    "        channels=(16, 32, 64, 128, 256),\n",
    "        strides=(2, 2, 2, 2),\n",
    "    ).to(device)\n",
    "    model.load_state_dict(torch.load(model1))\n",
    "    model.eval()\n",
    "    \n",
    "    # Test the model, run if statements...\n",
    "    if \"Intraretinal\" in model1:\n",
    "        loader = test_dataloader\n",
    "        loader_name = \"Intraretinal\"\n",
    "        nii_file = \"1.nii.gz\"\n",
    "    elif \"Neovascularization\" in model1:\n",
    "        loader = test_dataloader\n",
    "        loader_name = \"Neovascularization\"\n",
    "        nii_file = \"3.nii.gz\"\n",
    "    elif \"Nonperfusion\" in model1:\n",
    "        loader = test_dataloader\n",
    "        loader_name = \"Nonperfusion\"\n",
    "        nii_file = \"2.nii.gz\"\n",
    "    else:\n",
    "        print(\"Error\")\n",
    "        break\n",
    "    \n",
    "    # Create an empty array to store the predicted masks\n",
    "    predicted_masks = np.zeros((len(loader), 1024, 1024))\n",
    "    \n",
    "    for i, (inputs, name) in enumerate(loader):        \n",
    "        inputs = inputs.to(device)\n",
    "        outputs = model(inputs)\n",
    "        _, preds = torch.max(outputs, 1)\n",
    "        preds = preds.cpu().numpy()\n",
    "        \n",
    "        # Store the predicted mask in the array\n",
    "        predicted_masks[i] = preds[0]\n",
    "    print(predicted_masks.shape)    \n",
    "    predicted_masks_sitk = sitk.GetImageFromArray(predicted_masks)\n",
    "    sitk.WriteImage(predicted_masks_sitk, f\"{predictions}{nii_file}\")\n",
    "    \n",
    "    saveimages = False\n",
    "    if saveimages:\n",
    "        for inputs, name in loader:\n",
    "            # Permute\n",
    "            inputs = inputs.permute(0, 3, 1, 2)\n",
    "            \n",
    "            inputs = inputs.to(device)\n",
    "            outputs = model(inputs)\n",
    "            _, preds = torch.max(outputs['out'], 1)\n",
    "            preds = preds.cpu().numpy()\n",
    "            \n",
    "            if not os.path.exists(f\"{predictions}{loader_name}\"):\n",
    "                os.makedirs(f\"{predictions}{loader_name}\")\n",
    "            \n",
    "            for i in range(len(preds)):\n",
    "                # Set the name of the file\n",
    "                name = f\"{predictions}{loader_name}/{name[0]}.png\"\n",
    "                \n",
    "                plt.imsave(f\"{name}\", preds[i], cmap = 'gray')\n",
    "                count += 1"
   ]
  },
  {
   "cell_type": "code",
   "execution_count": 17,
   "metadata": {},
   "outputs": [],
   "source": [
    "# Load \"./models/fcn_resnet50_2_50_CrossEntropyLoss/Predictions/1.nii.gz\"\n",
    "image = sitk.ReadImage(\"./models/fcn_resnet50_3_250_DiceLoss/Predictions/1.nii.gz\")"
   ]
  },
  {
   "cell_type": "code",
   "execution_count": 21,
   "metadata": {},
   "outputs": [
    {
     "data": {
      "text/plain": [
       "<matplotlib.image.AxesImage at 0x7f9fb056b090>"
      ]
     },
     "execution_count": 21,
     "metadata": {},
     "output_type": "execute_result"
    },
    {
     "data": {
      "image/png": "[encoded data removed]",
      "text/plain": [
       "<Figure size 640x480 with 1 Axes>"
      ]
     },
     "metadata": {},
     "output_type": "display_data"
    }
   ],
   "source": [
    "# plot image\n",
    "plt.imshow(sitk.GetArrayFromImage(image)[50], cmap = \"gray\")"
   ]
  },
  {
   "cell_type": "code",
   "execution_count": 12,
   "metadata": {},
   "outputs": [
    {
     "name": "stdout",
     "output_type": "stream",
     "text": [
      "Image size: (1024, 1024, 65)\n",
      "Voxel spacing: (1.0, 1.0, 1.0)\n",
      "Image origin: (0.0, 0.0, 0.0)\n",
      "Image array shape: (65, 1024, 1024)\n"
     ]
    }
   ],
   "source": [
    "# Get the image dimensions\n",
    "size = image.GetSize()\n",
    "print(\"Image size:\", size)\n",
    "\n",
    "# Get the voxel spacing\n",
    "spacing = image.GetSpacing()\n",
    "print(\"Voxel spacing:\", spacing)\n",
    "\n",
    "# Get the image origin\n",
    "origin = image.GetOrigin()\n",
    "print(\"Image origin:\", origin)\n",
    "\n",
    "# Access the image data as a numpy array\n",
    "image_array = sitk.GetArrayFromImage(image)\n",
    "print(\"Image array shape:\", image_array.shape)"
   ]
  }
 ],
 "metadata": {
  "kernelspec": {
   "display_name": "aieoastorch",
   "language": "python",
   "name": "python3"
  },
  "language_info": {
   "codemirror_mode": {
    "name": "ipython",
    "version": 3
   },
   "file_extension": ".py",
   "mimetype": "text/x-python",
   "name": "python",
   "nbconvert_exporter": "python",
   "pygments_lexer": "ipython3",
   "version": "3.11.5"
  }
 },
 "nbformat": 4,
 "nbformat_minor": 2
}
